{
  "nbformat": 4,
  "nbformat_minor": 0,
  "metadata": {
    "colab": {
      "provenance": []
    },
    "kernelspec": {
      "name": "python3",
      "display_name": "Python 3"
    },
    "language_info": {
      "name": "python"
    }
  },
  "cells": [
    {
      "cell_type": "code",
      "source": [
        "#condition statment= coding your decision based on your condition"
      ],
      "metadata": {
        "id": "pBtA3CCTNfqO"
      },
      "execution_count": 9,
      "outputs": []
    },
    {
      "cell_type": "code",
      "source": [
        "#  syntax\n",
        "# if condition true:\n",
        "#    block of code true execute\n"
      ],
      "metadata": {
        "id": "mgDLyD4uPIRZ"
      },
      "execution_count": 22,
      "outputs": []
    },
    {
      "cell_type": "code",
      "source": [
        "a=2\n",
        "if a>100: # this is condition not true than not execute\n",
        "    print(\"the no is greater than 100\")"
      ],
      "metadata": {
        "id": "kBXR8aYsPb_t"
      },
      "execution_count": 20,
      "outputs": []
    },
    {
      "cell_type": "code",
      "source": [
        "wearther =\"raning\"\n",
        "if wearther==\"raning\":\n",
        "   print(\"i am not play the cricket\")"
      ],
      "metadata": {
        "colab": {
          "base_uri": "https://localhost:8080/"
        },
        "id": "WMNQq_iKQmKS",
        "outputId": "3e6ce88f-0d56-463d-ea55-5bac2b1dedc4"
      },
      "execution_count": 21,
      "outputs": [
        {
          "output_type": "stream",
          "name": "stdout",
          "text": [
            "i am not play the cricket\n"
          ]
        }
      ]
    },
    {
      "cell_type": "code",
      "source": [
        "# Syntax\n",
        "#   if condition:\n",
        "#     block of code true execute\n",
        "#   else:\n",
        "#      block of code false execute"
      ],
      "metadata": {
        "id": "thM6NT_oRusx"
      },
      "execution_count": 23,
      "outputs": []
    },
    {
      "cell_type": "code",
      "source": [
        "a=5\n",
        "if a>100:\n",
        "  print(\"the no is greater than 100\")\n",
        "else:\n",
        "   print(\"the no is less than 100\")"
      ],
      "metadata": {
        "colab": {
          "base_uri": "https://localhost:8080/"
        },
        "id": "nCEpYhLeS3Jq",
        "outputId": "1e5a43d4-a36b-4668-8c0b-cd960d927fe4"
      },
      "execution_count": 24,
      "outputs": [
        {
          "output_type": "stream",
          "name": "stdout",
          "text": [
            "the no is less than 100\n"
          ]
        }
      ]
    },
    {
      "cell_type": "code",
      "source": [
        "a=10\n",
        "if a>5:\n",
        "  print(\"a is greater than 5\")\n",
        "else:\n",
        "  print(\"a is less than 5\")"
      ],
      "metadata": {
        "colab": {
          "base_uri": "https://localhost:8080/"
        },
        "id": "PVnHA8f_ToI0",
        "outputId": "d95da2eb-b966-4dfc-9df1-fbaea5f8d5e1"
      },
      "execution_count": 25,
      "outputs": [
        {
          "output_type": "stream",
          "name": "stdout",
          "text": [
            "a is greater than 5\n"
          ]
        }
      ]
    },
    {
      "cell_type": "code",
      "source": [
        "# write the even and odd number\n",
        "n=5\n",
        "if n%2==0:\n",
        "  print(\"the number is even\")\n",
        "else:\n",
        "  print(\"the number is odd\")"
      ],
      "metadata": {
        "colab": {
          "base_uri": "https://localhost:8080/"
        },
        "id": "rNCU7eCsUuAb",
        "outputId": "f14ae3bb-ec40-43b1-bd11-f7e1a7a101d4"
      },
      "execution_count": 27,
      "outputs": [
        {
          "output_type": "stream",
          "name": "stdout",
          "text": [
            "the number is odd\n"
          ]
        }
      ]
    },
    {
      "cell_type": "code",
      "source": [
        "# syntax\n",
        "# if _elif_else\n",
        "# if condition:\n",
        " # block of true execute\n",
        "#elif condition:\n",
        "  # block of code false excute\n",
        "# else:\n",
        "   # block of both not excute than is excute"
      ],
      "metadata": {
        "id": "BcL4E8cbWfPI"
      },
      "execution_count": 30,
      "outputs": []
    },
    {
      "cell_type": "code",
      "source": [
        "marks= 75\n",
        "if marks>90:\n",
        "  print(\"grate A\")\n",
        "elif (80<=marks<=90 ):\n",
        "  print(\"grate B\")\n",
        "else:\n",
        "  print(\"less than B\")\n",
        "\n",
        "\n"
      ],
      "metadata": {
        "colab": {
          "base_uri": "https://localhost:8080/"
        },
        "id": "lUmp_HWGY8L4",
        "outputId": "9fc30271-57d2-43aa-f2e0-9185ced99c40"
      },
      "execution_count": 32,
      "outputs": [
        {
          "output_type": "stream",
          "name": "stdout",
          "text": [
            "less than B\n"
          ]
        }
      ]
    },
    {
      "cell_type": "code",
      "source": [
        "# nested if_else_if condition\n",
        "# syntax\n",
        "# if condition:\n",
        "   # if condition:\n",
        "      # block of true excute\n",
        "   #else:\n",
        "       # block  of false excute\n",
        "   # else :\n",
        "        # block both condition not true than excute"
      ],
      "metadata": {
        "id": "BkZKk4zebmx6"
      },
      "execution_count": null,
      "outputs": []
    },
    {
      "cell_type": "code",
      "source": [
        "a=10\n",
        "b=5\n",
        "if a>5:\n",
        "  if b>5:\n",
        "        print(\"the number is greater than 5\")\n",
        "  else:\n",
        "       print(\"  a is greater than but b is not greater than \")\n",
        "else:\n",
        "       print(\" is not greater than \")"
      ],
      "metadata": {
        "colab": {
          "base_uri": "https://localhost:8080/"
        },
        "id": "irhXRYPIcbFA",
        "outputId": "bc161bff-bf0f-4fb1-f0e5-5358caf9e749"
      },
      "execution_count": 36,
      "outputs": [
        {
          "output_type": "stream",
          "name": "stdout",
          "text": [
            "  a is greater than but b is not greater than \n"
          ]
        }
      ]
    },
    {
      "cell_type": "code",
      "source": [
        "name =input(\"enter your name\")\n",
        "email =input(\"enter your email\")\n",
        "password= input(\"enter your password\")\n",
        "if   name ==\"\":\n",
        "  print(\" name can be empty\")\n",
        "else :\n",
        "  print(\"name cannot be  empty\")\n",
        "if email==\"\":\n",
        "  print(\"invalid email\")\n",
        "else:\n",
        "    print(\"valid email\")\n",
        "if  password==\"\":\n",
        "  print(\"the password incurrect\")\n",
        "else:\n",
        "  print(\"currect password\")\n",
        "if \"\":\n",
        "  print(\"\")\n",
        "else:\n",
        "   print(\"registration succesful\")\n"
      ],
      "metadata": {
        "colab": {
          "base_uri": "https://localhost:8080/"
        },
        "id": "jmPzGLh8gwaX",
        "outputId": "78574332-1dcc-448c-bb2e-3a848b078cc3"
      },
      "execution_count": 41,
      "outputs": [
        {
          "output_type": "stream",
          "name": "stdout",
          "text": [
            "enter your namePankaj kumar\n",
            "enter your emailPankajk22199@gamil.com\n",
            "enter your passwordPankaj12#()\n",
            "name cannot be  empty\n",
            "valid email\n",
            "currect password\n",
            "registration succesful\n"
          ]
        }
      ]
    }
  ]
}